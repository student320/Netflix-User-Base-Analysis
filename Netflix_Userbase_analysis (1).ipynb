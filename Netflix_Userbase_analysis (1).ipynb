{
 "cells": [
  {
   "cell_type": "markdown",
   "id": "c8839ae0-1e83-4b1d-9e84-d27149adeffc",
   "metadata": {},
   "source": [
    "***\n",
    "### Data Import and Exploratory Data Analysis\n",
    "***"
   ]
  },
  {
   "cell_type": "code",
   "execution_count": 1,
   "id": "f7d9d9b4-4b9a-4a83-bff5-a693dcb2fc2f",
   "metadata": {},
   "outputs": [
    {
     "name": "stderr",
     "output_type": "stream",
     "text": [
      "C:\\Users\\Administrator\\AppData\\Local\\Temp\\ipykernel_10948\\687462750.py:1: DeprecationWarning: \n",
      "Pyarrow will become a required dependency of pandas in the next major release of pandas (pandas 3.0),\n",
      "(to allow more performant data types, such as the Arrow string type, and better interoperability with other libraries)\n",
      "but was not found to be installed on your system.\n",
      "If this would cause problems for you,\n",
      "please provide us feedback at https://github.com/pandas-dev/pandas/issues/54466\n",
      "        \n",
      "  import pandas as pd\n"
     ]
    }
   ],
   "source": [
    "import pandas as pd\n",
    "import matplotlib.pyplot as plt\n",
    "import seaborn as sns"
   ]
  },
  {
   "cell_type": "code",
   "execution_count": 2,
   "id": "bbcfd7ab-d5cf-455c-a880-ddc41fd4ed37",
   "metadata": {},
   "outputs": [
    {
     "data": {
      "text/html": [
       "<div>\n",
       "<style scoped>\n",
       "    .dataframe tbody tr th:only-of-type {\n",
       "        vertical-align: middle;\n",
       "    }\n",
       "\n",
       "    .dataframe tbody tr th {\n",
       "        vertical-align: top;\n",
       "    }\n",
       "\n",
       "    .dataframe thead th {\n",
       "        text-align: right;\n",
       "    }\n",
       "</style>\n",
       "<table border=\"1\" class=\"dataframe\">\n",
       "  <thead>\n",
       "    <tr style=\"text-align: right;\">\n",
       "      <th></th>\n",
       "      <th>User ID</th>\n",
       "      <th>Subscription Type</th>\n",
       "      <th>Monthly Revenue</th>\n",
       "      <th>Join Date</th>\n",
       "      <th>Last Payment Date</th>\n",
       "      <th>Country</th>\n",
       "      <th>Age</th>\n",
       "      <th>Gender</th>\n",
       "      <th>Device</th>\n",
       "      <th>Plan Duration</th>\n",
       "    </tr>\n",
       "  </thead>\n",
       "  <tbody>\n",
       "    <tr>\n",
       "      <th>0</th>\n",
       "      <td>1</td>\n",
       "      <td>Basic</td>\n",
       "      <td>10</td>\n",
       "      <td>15-01-22</td>\n",
       "      <td>10-06-23</td>\n",
       "      <td>United States</td>\n",
       "      <td>28</td>\n",
       "      <td>Male</td>\n",
       "      <td>Smartphone</td>\n",
       "      <td>1 Month</td>\n",
       "    </tr>\n",
       "    <tr>\n",
       "      <th>1</th>\n",
       "      <td>2</td>\n",
       "      <td>Premium</td>\n",
       "      <td>15</td>\n",
       "      <td>05-09-21</td>\n",
       "      <td>22-06-23</td>\n",
       "      <td>Canada</td>\n",
       "      <td>35</td>\n",
       "      <td>Female</td>\n",
       "      <td>Tablet</td>\n",
       "      <td>1 Month</td>\n",
       "    </tr>\n",
       "    <tr>\n",
       "      <th>2</th>\n",
       "      <td>3</td>\n",
       "      <td>Standard</td>\n",
       "      <td>12</td>\n",
       "      <td>28-02-23</td>\n",
       "      <td>27-06-23</td>\n",
       "      <td>United Kingdom</td>\n",
       "      <td>42</td>\n",
       "      <td>Male</td>\n",
       "      <td>Smart TV</td>\n",
       "      <td>1 Month</td>\n",
       "    </tr>\n",
       "    <tr>\n",
       "      <th>3</th>\n",
       "      <td>4</td>\n",
       "      <td>Standard</td>\n",
       "      <td>12</td>\n",
       "      <td>10-07-22</td>\n",
       "      <td>26-06-23</td>\n",
       "      <td>Australia</td>\n",
       "      <td>51</td>\n",
       "      <td>Female</td>\n",
       "      <td>Laptop</td>\n",
       "      <td>1 Month</td>\n",
       "    </tr>\n",
       "    <tr>\n",
       "      <th>4</th>\n",
       "      <td>5</td>\n",
       "      <td>Basic</td>\n",
       "      <td>10</td>\n",
       "      <td>01-05-23</td>\n",
       "      <td>28-06-23</td>\n",
       "      <td>Germany</td>\n",
       "      <td>33</td>\n",
       "      <td>Male</td>\n",
       "      <td>Smartphone</td>\n",
       "      <td>1 Month</td>\n",
       "    </tr>\n",
       "  </tbody>\n",
       "</table>\n",
       "</div>"
      ],
      "text/plain": [
       "   User ID Subscription Type  Monthly Revenue Join Date Last Payment Date  \\\n",
       "0        1             Basic               10  15-01-22          10-06-23   \n",
       "1        2           Premium               15  05-09-21          22-06-23   \n",
       "2        3          Standard               12  28-02-23          27-06-23   \n",
       "3        4          Standard               12  10-07-22          26-06-23   \n",
       "4        5             Basic               10  01-05-23          28-06-23   \n",
       "\n",
       "          Country  Age  Gender      Device Plan Duration  \n",
       "0   United States   28    Male  Smartphone       1 Month  \n",
       "1          Canada   35  Female      Tablet       1 Month  \n",
       "2  United Kingdom   42    Male    Smart TV       1 Month  \n",
       "3       Australia   51  Female      Laptop       1 Month  \n",
       "4         Germany   33    Male  Smartphone       1 Month  "
      ]
     },
     "execution_count": 2,
     "metadata": {},
     "output_type": "execute_result"
    }
   ],
   "source": [
    "df = pd.read_csv(r\"C:\\Users\\Administrator\\Downloads\\archive (4)\\Netflix Userbase.csv\")\n",
    "df.head()"
   ]
  },
  {
   "cell_type": "code",
   "execution_count": 3,
   "id": "2c12ff8a-ac5d-4af2-bff7-0a60cd6b2449",
   "metadata": {},
   "outputs": [
    {
     "name": "stdout",
     "output_type": "stream",
     "text": [
      "<class 'pandas.core.frame.DataFrame'>\n",
      "RangeIndex: 2500 entries, 0 to 2499\n",
      "Data columns (total 10 columns):\n",
      " #   Column             Non-Null Count  Dtype \n",
      "---  ------             --------------  ----- \n",
      " 0   User ID            2500 non-null   int64 \n",
      " 1   Subscription Type  2500 non-null   object\n",
      " 2   Monthly Revenue    2500 non-null   int64 \n",
      " 3   Join Date          2500 non-null   object\n",
      " 4   Last Payment Date  2500 non-null   object\n",
      " 5   Country            2500 non-null   object\n",
      " 6   Age                2500 non-null   int64 \n",
      " 7   Gender             2500 non-null   object\n",
      " 8   Device             2500 non-null   object\n",
      " 9   Plan Duration      2500 non-null   object\n",
      "dtypes: int64(3), object(7)\n",
      "memory usage: 195.4+ KB\n"
     ]
    }
   ],
   "source": [
    "df.info()"
   ]
  },
  {
   "cell_type": "code",
   "execution_count": 4,
   "id": "1b9bccf8-e2be-470a-971a-55d858147665",
   "metadata": {},
   "outputs": [
    {
     "data": {
      "text/html": [
       "<div>\n",
       "<style scoped>\n",
       "    .dataframe tbody tr th:only-of-type {\n",
       "        vertical-align: middle;\n",
       "    }\n",
       "\n",
       "    .dataframe tbody tr th {\n",
       "        vertical-align: top;\n",
       "    }\n",
       "\n",
       "    .dataframe thead th {\n",
       "        text-align: right;\n",
       "    }\n",
       "</style>\n",
       "<table border=\"1\" class=\"dataframe\">\n",
       "  <thead>\n",
       "    <tr style=\"text-align: right;\">\n",
       "      <th></th>\n",
       "      <th>User ID</th>\n",
       "      <th>Monthly Revenue</th>\n",
       "      <th>Age</th>\n",
       "    </tr>\n",
       "  </thead>\n",
       "  <tbody>\n",
       "    <tr>\n",
       "      <th>count</th>\n",
       "      <td>2500.00000</td>\n",
       "      <td>2500.000000</td>\n",
       "      <td>2500.000000</td>\n",
       "    </tr>\n",
       "    <tr>\n",
       "      <th>mean</th>\n",
       "      <td>1250.50000</td>\n",
       "      <td>12.508400</td>\n",
       "      <td>38.795600</td>\n",
       "    </tr>\n",
       "    <tr>\n",
       "      <th>std</th>\n",
       "      <td>721.83216</td>\n",
       "      <td>1.686851</td>\n",
       "      <td>7.171778</td>\n",
       "    </tr>\n",
       "    <tr>\n",
       "      <th>min</th>\n",
       "      <td>1.00000</td>\n",
       "      <td>10.000000</td>\n",
       "      <td>26.000000</td>\n",
       "    </tr>\n",
       "    <tr>\n",
       "      <th>25%</th>\n",
       "      <td>625.75000</td>\n",
       "      <td>11.000000</td>\n",
       "      <td>32.000000</td>\n",
       "    </tr>\n",
       "    <tr>\n",
       "      <th>50%</th>\n",
       "      <td>1250.50000</td>\n",
       "      <td>12.000000</td>\n",
       "      <td>39.000000</td>\n",
       "    </tr>\n",
       "    <tr>\n",
       "      <th>75%</th>\n",
       "      <td>1875.25000</td>\n",
       "      <td>14.000000</td>\n",
       "      <td>45.000000</td>\n",
       "    </tr>\n",
       "    <tr>\n",
       "      <th>max</th>\n",
       "      <td>2500.00000</td>\n",
       "      <td>15.000000</td>\n",
       "      <td>51.000000</td>\n",
       "    </tr>\n",
       "  </tbody>\n",
       "</table>\n",
       "</div>"
      ],
      "text/plain": [
       "          User ID  Monthly Revenue          Age\n",
       "count  2500.00000      2500.000000  2500.000000\n",
       "mean   1250.50000        12.508400    38.795600\n",
       "std     721.83216         1.686851     7.171778\n",
       "min       1.00000        10.000000    26.000000\n",
       "25%     625.75000        11.000000    32.000000\n",
       "50%    1250.50000        12.000000    39.000000\n",
       "75%    1875.25000        14.000000    45.000000\n",
       "max    2500.00000        15.000000    51.000000"
      ]
     },
     "execution_count": 4,
     "metadata": {},
     "output_type": "execute_result"
    }
   ],
   "source": [
    "df.describe()"
   ]
  },
  {
   "cell_type": "code",
   "execution_count": 5,
   "id": "103184ef-ba46-47fe-aaeb-1b860dbff261",
   "metadata": {},
   "outputs": [
    {
     "data": {
      "text/plain": [
       "(2500, 10)"
      ]
     },
     "execution_count": 5,
     "metadata": {},
     "output_type": "execute_result"
    }
   ],
   "source": [
    "df.shape"
   ]
  },
  {
   "cell_type": "code",
   "execution_count": 6,
   "id": "d6318f1c-476d-4b9b-9180-23933a177665",
   "metadata": {
    "scrolled": true
   },
   "outputs": [
    {
     "data": {
      "text/plain": [
       "User ID              0\n",
       "Subscription Type    0\n",
       "Monthly Revenue      0\n",
       "Join Date            0\n",
       "Last Payment Date    0\n",
       "Country              0\n",
       "Age                  0\n",
       "Gender               0\n",
       "Device               0\n",
       "Plan Duration        0\n",
       "dtype: int64"
      ]
     },
     "execution_count": 6,
     "metadata": {},
     "output_type": "execute_result"
    }
   ],
   "source": [
    "df.isnull().sum()"
   ]
  },
  {
   "cell_type": "code",
   "execution_count": 7,
   "id": "c8d0524c-758d-48d8-adf6-9f3b8b28bbb6",
   "metadata": {},
   "outputs": [
    {
     "data": {
      "text/plain": [
       "0"
      ]
     },
     "execution_count": 7,
     "metadata": {},
     "output_type": "execute_result"
    }
   ],
   "source": [
    "df.duplicated().sum()"
   ]
  },
  {
   "cell_type": "code",
   "execution_count": 8,
   "id": "c4606f2a-2a34-4850-93a2-657ecc23817c",
   "metadata": {},
   "outputs": [
    {
     "data": {
      "image/png": "[encoded data removed]",
      "text/plain": [
       "<Figure size 1000x400 with 1 Axes>"
      ]
     },
     "metadata": {},
     "output_type": "display_data"
    },
    {
     "data": {
      "image/png": "[encoded data removed]",
      "text/plain": [
       "<Figure size 1000x400 with 1 Axes>"
      ]
     },
     "metadata": {},
     "output_type": "display_data"
    },
    {
     "data": {
      "image/png": "[encoded data removed]",
      "text/plain": [
       "<Figure size 1000x400 with 1 Axes>"
      ]
     },
     "metadata": {},
     "output_type": "display_data"
    },
    {
     "data": {
      "image/png": "[encoded data removed]",
      "text/plain": [
       "<Figure size 1000x400 with 1 Axes>"
      ]
     },
     "metadata": {},
     "output_type": "display_data"
    }
   ],
   "source": [
    "column_titles = {'Country':'Number of Users per Country', 'Gender':'Gender Counts', 'Device':'Device Counts', 'Subscription Type': 'Subscription type Count'}\n",
    "\n",
    "\n",
    "for col, title in column_titles.items():\n",
    "    plt.figure(figsize = (10,4))\n",
    "    df[col].value_counts().sort_values(ascending = True).plot(kind = 'barh', color = 'blue')\n",
    "    plt.title(title)\n",
    "    plt.ylabel(\"Country\")\n",
    "    plt.xlabel(\"Number of Users\")\n",
    "    plt.show()\n"
   ]
  },
  {
   "cell_type": "code",
   "execution_count": 9,
   "id": "129a91d1-f7e4-4ebd-bc1c-bc350b452371",
   "metadata": {},
   "outputs": [
    {
     "data": {
      "image/png": "[encoded data removed]",
      "text/plain": [
       "<Figure size 1000x400 with 1 Axes>"
      ]
     },
     "metadata": {},
     "output_type": "display_data"
    }
   ],
   "source": [
    "plt.figure(figsize = (10,4))\n",
    "df['Age'].value_counts().sort_index(ascending = True).plot(kind = 'bar', color = 'blue')\n",
    "plt.title(title)\n",
    "plt.ylabel(\"Age\")\n",
    "plt.xlabel(\"Age Count\")\n",
    "plt.show()\n"
   ]
  },
  {
   "cell_type": "markdown",
   "id": "37c215b0-b68b-4e7a-8f3e-83ae5d8ba9d7",
   "metadata": {},
   "source": [
    "***\n",
    "### Generate Key Metrics\n",
    "***"
   ]
  },
  {
   "cell_type": "code",
   "execution_count": 28,
   "id": "af8dddeb-a9c9-445b-b783-58514aec7f8c",
   "metadata": {},
   "outputs": [
    {
     "data": {
      "text/html": [
       "<div>\n",
       "<style scoped>\n",
       "    .dataframe tbody tr th:only-of-type {\n",
       "        vertical-align: middle;\n",
       "    }\n",
       "\n",
       "    .dataframe tbody tr th {\n",
       "        vertical-align: top;\n",
       "    }\n",
       "\n",
       "    .dataframe thead th {\n",
       "        text-align: right;\n",
       "    }\n",
       "</style>\n",
       "<table border=\"1\" class=\"dataframe\">\n",
       "  <thead>\n",
       "    <tr style=\"text-align: right;\">\n",
       "      <th></th>\n",
       "      <th>User ID</th>\n",
       "      <th>Subscription Type</th>\n",
       "      <th>Monthly Revenue</th>\n",
       "      <th>Join Date</th>\n",
       "      <th>Last Payment Date</th>\n",
       "      <th>Country</th>\n",
       "      <th>Age</th>\n",
       "      <th>Gender</th>\n",
       "      <th>Device</th>\n",
       "      <th>Plan Duration</th>\n",
       "      <th>Number of Months Subscribed</th>\n",
       "      <th>CLTV (Total Revenue Per User)</th>\n",
       "      <th>Status</th>\n",
       "    </tr>\n",
       "  </thead>\n",
       "  <tbody>\n",
       "    <tr>\n",
       "      <th>0</th>\n",
       "      <td>1</td>\n",
       "      <td>Basic</td>\n",
       "      <td>10</td>\n",
       "      <td>2022-01-15</td>\n",
       "      <td>2023-06-10</td>\n",
       "      <td>United States</td>\n",
       "      <td>28</td>\n",
       "      <td>Male</td>\n",
       "      <td>Smartphone</td>\n",
       "      <td>1 Month</td>\n",
       "      <td>17</td>\n",
       "      <td>170</td>\n",
       "      <td>Inactive</td>\n",
       "    </tr>\n",
       "    <tr>\n",
       "      <th>1</th>\n",
       "      <td>2</td>\n",
       "      <td>Premium</td>\n",
       "      <td>15</td>\n",
       "      <td>2021-09-05</td>\n",
       "      <td>2023-06-22</td>\n",
       "      <td>Canada</td>\n",
       "      <td>35</td>\n",
       "      <td>Female</td>\n",
       "      <td>Tablet</td>\n",
       "      <td>1 Month</td>\n",
       "      <td>22</td>\n",
       "      <td>330</td>\n",
       "      <td>Active</td>\n",
       "    </tr>\n",
       "    <tr>\n",
       "      <th>2</th>\n",
       "      <td>3</td>\n",
       "      <td>Standard</td>\n",
       "      <td>12</td>\n",
       "      <td>2023-02-28</td>\n",
       "      <td>2023-06-27</td>\n",
       "      <td>United Kingdom</td>\n",
       "      <td>42</td>\n",
       "      <td>Male</td>\n",
       "      <td>Smart TV</td>\n",
       "      <td>1 Month</td>\n",
       "      <td>4</td>\n",
       "      <td>48</td>\n",
       "      <td>Active</td>\n",
       "    </tr>\n",
       "    <tr>\n",
       "      <th>3</th>\n",
       "      <td>4</td>\n",
       "      <td>Standard</td>\n",
       "      <td>12</td>\n",
       "      <td>2022-07-10</td>\n",
       "      <td>2023-06-26</td>\n",
       "      <td>Australia</td>\n",
       "      <td>51</td>\n",
       "      <td>Female</td>\n",
       "      <td>Laptop</td>\n",
       "      <td>1 Month</td>\n",
       "      <td>12</td>\n",
       "      <td>144</td>\n",
       "      <td>Active</td>\n",
       "    </tr>\n",
       "    <tr>\n",
       "      <th>4</th>\n",
       "      <td>5</td>\n",
       "      <td>Basic</td>\n",
       "      <td>10</td>\n",
       "      <td>2023-05-01</td>\n",
       "      <td>2023-06-28</td>\n",
       "      <td>Germany</td>\n",
       "      <td>33</td>\n",
       "      <td>Male</td>\n",
       "      <td>Smartphone</td>\n",
       "      <td>1 Month</td>\n",
       "      <td>2</td>\n",
       "      <td>20</td>\n",
       "      <td>Active</td>\n",
       "    </tr>\n",
       "  </tbody>\n",
       "</table>\n",
       "</div>"
      ],
      "text/plain": [
       "   User ID Subscription Type  Monthly Revenue  Join Date Last Payment Date  \\\n",
       "0        1             Basic               10 2022-01-15        2023-06-10   \n",
       "1        2           Premium               15 2021-09-05        2023-06-22   \n",
       "2        3          Standard               12 2023-02-28        2023-06-27   \n",
       "3        4          Standard               12 2022-07-10        2023-06-26   \n",
       "4        5             Basic               10 2023-05-01        2023-06-28   \n",
       "\n",
       "          Country  Age  Gender      Device Plan Duration  \\\n",
       "0   United States   28    Male  Smartphone       1 Month   \n",
       "1          Canada   35  Female      Tablet       1 Month   \n",
       "2  United Kingdom   42    Male    Smart TV       1 Month   \n",
       "3       Australia   51  Female      Laptop       1 Month   \n",
       "4         Germany   33    Male  Smartphone       1 Month   \n",
       "\n",
       "   Number of Months Subscribed  CLTV (Total Revenue Per User)    Status  \n",
       "0                           17                            170  Inactive  \n",
       "1                           22                            330    Active  \n",
       "2                            4                             48    Active  \n",
       "3                           12                            144    Active  \n",
       "4                            2                             20    Active  "
      ]
     },
     "execution_count": 28,
     "metadata": {},
     "output_type": "execute_result"
    }
   ],
   "source": [
    "# Calculate Number of Months Subscribed per user\n",
    "df['Join Date'] = pd.to_datetime(df['Join Date'], format ='%d-%m-%y')\n",
    "df['Last Payment Date'] = pd.to_datetime(df['Last Payment Date'], format ='%d-%m-%y')\n",
    "\n",
    "def calculate_months(join_date, last_payment_date):\n",
    "    # Calculate the difference in years and months\n",
    "    year_diff = last_payment_date.year - join_date.year\n",
    "    month_diff = last_payment_date.month - join_date.month\n",
    "    \n",
    "    # Total months difference\n",
    "    total_months = year_diff * 12 + month_diff\n",
    "    \n",
    "    # Adjust for day difference\n",
    "    if last_payment_date.day >= join_date.day:\n",
    "        total_months += 1\n",
    "        \n",
    "    return total_months\n",
    "\n",
    "\n",
    "df['Number of Months Subscribed'] = df.apply(lambda row: calculate_months(row['Join Date'], row['Last Payment Date']), axis=1)\n",
    "\n",
    "# Calculate Total Revenue Per User or CLTV\n",
    "df['CLTV (Total Revenue Per User)'] = df['Monthly Revenue'] * df['Number of Months Subscribed']\n",
    "\n",
    "df.head()"
   ]
  },
  {
   "cell_type": "markdown",
   "id": "65959026-9bd2-4a25-bb66-316c5cc0a5ee",
   "metadata": {},
   "source": [
    "We notice that some dates from \"Join Date\" and \"Last Payment Date\" Columns have been swapped."
   ]
  },
  {
   "cell_type": "markdown",
   "id": "659aa55c-4370-440a-a2ae-46a30bb6ada6",
   "metadata": {},
   "source": [
    "***\n",
    "### Data Cleaning\n",
    "***"
   ]
  },
  {
   "cell_type": "code",
   "execution_count": 29,
   "id": "6e702cb1-ebb6-436f-9f72-d3d84ffe4a55",
   "metadata": {},
   "outputs": [
    {
     "data": {
      "text/html": [
       "<div>\n",
       "<style scoped>\n",
       "    .dataframe tbody tr th:only-of-type {\n",
       "        vertical-align: middle;\n",
       "    }\n",
       "\n",
       "    .dataframe tbody tr th {\n",
       "        vertical-align: top;\n",
       "    }\n",
       "\n",
       "    .dataframe thead th {\n",
       "        text-align: right;\n",
       "    }\n",
       "</style>\n",
       "<table border=\"1\" class=\"dataframe\">\n",
       "  <thead>\n",
       "    <tr style=\"text-align: right;\">\n",
       "      <th></th>\n",
       "      <th>User ID</th>\n",
       "      <th>Subscription Type</th>\n",
       "      <th>Monthly Revenue</th>\n",
       "      <th>Join Date</th>\n",
       "      <th>Last Payment Date</th>\n",
       "      <th>Country</th>\n",
       "      <th>Age</th>\n",
       "      <th>Gender</th>\n",
       "      <th>Device</th>\n",
       "      <th>Plan Duration</th>\n",
       "      <th>Number of Months Subscribed</th>\n",
       "      <th>CLTV (Total Revenue Per User)</th>\n",
       "      <th>Status</th>\n",
       "    </tr>\n",
       "  </thead>\n",
       "  <tbody>\n",
       "  </tbody>\n",
       "</table>\n",
       "</div>"
      ],
      "text/plain": [
       "Empty DataFrame\n",
       "Columns: [User ID, Subscription Type, Monthly Revenue, Join Date, Last Payment Date, Country, Age, Gender, Device, Plan Duration, Number of Months Subscribed, CLTV (Total Revenue Per User), Status]\n",
       "Index: []"
      ]
     },
     "execution_count": 29,
     "metadata": {},
     "output_type": "execute_result"
    }
   ],
   "source": [
    "df['Number of Months Subscribed'].sort_values(ascending= True)\n",
    "df[df['Number of Months Subscribed'] < 0] #join date and last payment dates are swapped causeing negative months values"
   ]
  },
  {
   "cell_type": "code",
   "execution_count": 30,
   "id": "ddc58e93-e6bf-4cb8-8d57-a1a44f7c2e58",
   "metadata": {},
   "outputs": [
    {
     "data": {
      "text/plain": [
       "Series([], Name: User ID, dtype: int64)"
      ]
     },
     "execution_count": 30,
     "metadata": {},
     "output_type": "execute_result"
    }
   ],
   "source": [
    "df[df['Number of Months Subscribed'] < 0]['User ID']"
   ]
  },
  {
   "cell_type": "code",
   "execution_count": 31,
   "id": "949f863a-ffac-4dcc-bfa9-857328884093",
   "metadata": {},
   "outputs": [],
   "source": [
    "error_indices = df[df['Number of Months Subscribed'] < 0].index.tolist() \n",
    "\n",
    "\n",
    "for index in error_indices:\n",
    "    temp = df.at[index, 'Join Date']  # Store the 'Join Date' temporarily\n",
    "    df.at[index, 'Join Date'] = df.at[index, 'Last Payment Date']  # Swap 'Join Date' with 'Last Payment Date'\n",
    "    df.at[index, 'Last Payment Date'] = temp  # Assign the stored 'Join Date' to 'Last Payment Date'\n"
   ]
  },
  {
   "cell_type": "code",
   "execution_count": 32,
   "id": "1f362c0a-f0fd-41e3-90f7-88431f3c527c",
   "metadata": {},
   "outputs": [
    {
     "data": {
      "text/html": [
       "<div>\n",
       "<style scoped>\n",
       "    .dataframe tbody tr th:only-of-type {\n",
       "        vertical-align: middle;\n",
       "    }\n",
       "\n",
       "    .dataframe tbody tr th {\n",
       "        vertical-align: top;\n",
       "    }\n",
       "\n",
       "    .dataframe thead th {\n",
       "        text-align: right;\n",
       "    }\n",
       "</style>\n",
       "<table border=\"1\" class=\"dataframe\">\n",
       "  <thead>\n",
       "    <tr style=\"text-align: right;\">\n",
       "      <th></th>\n",
       "      <th>User ID</th>\n",
       "      <th>Subscription Type</th>\n",
       "      <th>Monthly Revenue</th>\n",
       "      <th>Join Date</th>\n",
       "      <th>Last Payment Date</th>\n",
       "      <th>Country</th>\n",
       "      <th>Age</th>\n",
       "      <th>Gender</th>\n",
       "      <th>Device</th>\n",
       "      <th>Plan Duration</th>\n",
       "      <th>Number of Months Subscribed</th>\n",
       "      <th>CLTV (Total Revenue Per User)</th>\n",
       "      <th>Status</th>\n",
       "    </tr>\n",
       "  </thead>\n",
       "  <tbody>\n",
       "    <tr>\n",
       "      <th>0</th>\n",
       "      <td>1</td>\n",
       "      <td>Basic</td>\n",
       "      <td>10</td>\n",
       "      <td>2022-01-15</td>\n",
       "      <td>2023-06-10</td>\n",
       "      <td>United States</td>\n",
       "      <td>28</td>\n",
       "      <td>Male</td>\n",
       "      <td>Smartphone</td>\n",
       "      <td>1 Month</td>\n",
       "      <td>17</td>\n",
       "      <td>170</td>\n",
       "      <td>Inactive</td>\n",
       "    </tr>\n",
       "    <tr>\n",
       "      <th>1</th>\n",
       "      <td>2</td>\n",
       "      <td>Premium</td>\n",
       "      <td>15</td>\n",
       "      <td>2021-09-05</td>\n",
       "      <td>2023-06-22</td>\n",
       "      <td>Canada</td>\n",
       "      <td>35</td>\n",
       "      <td>Female</td>\n",
       "      <td>Tablet</td>\n",
       "      <td>1 Month</td>\n",
       "      <td>22</td>\n",
       "      <td>330</td>\n",
       "      <td>Active</td>\n",
       "    </tr>\n",
       "    <tr>\n",
       "      <th>2</th>\n",
       "      <td>3</td>\n",
       "      <td>Standard</td>\n",
       "      <td>12</td>\n",
       "      <td>2023-02-28</td>\n",
       "      <td>2023-06-27</td>\n",
       "      <td>United Kingdom</td>\n",
       "      <td>42</td>\n",
       "      <td>Male</td>\n",
       "      <td>Smart TV</td>\n",
       "      <td>1 Month</td>\n",
       "      <td>4</td>\n",
       "      <td>48</td>\n",
       "      <td>Active</td>\n",
       "    </tr>\n",
       "    <tr>\n",
       "      <th>3</th>\n",
       "      <td>4</td>\n",
       "      <td>Standard</td>\n",
       "      <td>12</td>\n",
       "      <td>2022-07-10</td>\n",
       "      <td>2023-06-26</td>\n",
       "      <td>Australia</td>\n",
       "      <td>51</td>\n",
       "      <td>Female</td>\n",
       "      <td>Laptop</td>\n",
       "      <td>1 Month</td>\n",
       "      <td>12</td>\n",
       "      <td>144</td>\n",
       "      <td>Active</td>\n",
       "    </tr>\n",
       "    <tr>\n",
       "      <th>4</th>\n",
       "      <td>5</td>\n",
       "      <td>Basic</td>\n",
       "      <td>10</td>\n",
       "      <td>2023-05-01</td>\n",
       "      <td>2023-06-28</td>\n",
       "      <td>Germany</td>\n",
       "      <td>33</td>\n",
       "      <td>Male</td>\n",
       "      <td>Smartphone</td>\n",
       "      <td>1 Month</td>\n",
       "      <td>2</td>\n",
       "      <td>20</td>\n",
       "      <td>Active</td>\n",
       "    </tr>\n",
       "  </tbody>\n",
       "</table>\n",
       "</div>"
      ],
      "text/plain": [
       "   User ID Subscription Type  Monthly Revenue  Join Date Last Payment Date  \\\n",
       "0        1             Basic               10 2022-01-15        2023-06-10   \n",
       "1        2           Premium               15 2021-09-05        2023-06-22   \n",
       "2        3          Standard               12 2023-02-28        2023-06-27   \n",
       "3        4          Standard               12 2022-07-10        2023-06-26   \n",
       "4        5             Basic               10 2023-05-01        2023-06-28   \n",
       "\n",
       "          Country  Age  Gender      Device Plan Duration  \\\n",
       "0   United States   28    Male  Smartphone       1 Month   \n",
       "1          Canada   35  Female      Tablet       1 Month   \n",
       "2  United Kingdom   42    Male    Smart TV       1 Month   \n",
       "3       Australia   51  Female      Laptop       1 Month   \n",
       "4         Germany   33    Male  Smartphone       1 Month   \n",
       "\n",
       "   Number of Months Subscribed  CLTV (Total Revenue Per User)    Status  \n",
       "0                           17                            170  Inactive  \n",
       "1                           22                            330    Active  \n",
       "2                            4                             48    Active  \n",
       "3                           12                            144    Active  \n",
       "4                            2                             20    Active  "
      ]
     },
     "execution_count": 32,
     "metadata": {},
     "output_type": "execute_result"
    }
   ],
   "source": [
    "#Recalculate \n",
    "# Calculate Number of Months Subscribed per user\n",
    "def calculate_months(join_date, last_payment_date):\n",
    "    # Calculate the difference in years and months\n",
    "    year_diff = last_payment_date.year - join_date.year\n",
    "    month_diff = last_payment_date.month - join_date.month\n",
    "    \n",
    "    # Total months difference\n",
    "    total_months = year_diff * 12 + month_diff\n",
    "    \n",
    "    # Adjust for day difference\n",
    "    if last_payment_date.day >= join_date.day:\n",
    "        total_months += 1\n",
    "        \n",
    "    return total_months\n",
    "\n",
    "\n",
    "df['Number of Months Subscribed'] = df.apply(lambda row: calculate_months(row['Join Date'], row['Last Payment Date']), axis=1)\n",
    "\n",
    "# Calculate Total Revenue Per User\n",
    "df['CLTV (Total Revenue Per User)'] = df['Monthly Revenue'] * df['Number of Months Subscribed']\n",
    "\n",
    "df.head()"
   ]
  },
  {
   "cell_type": "code",
   "execution_count": 33,
   "id": "72d9f1a6-4ab8-457f-b8ea-e9c475c7ff29",
   "metadata": {},
   "outputs": [
    {
     "name": "stdout",
     "output_type": "stream",
     "text": [
      "Average number of months a user stays subscribed: 10.68 months.\n",
      "Standard deviation for months subscribed: 2.07 months.\n"
     ]
    }
   ],
   "source": [
    "import pandas as pd\n",
    "\n",
    "# Calculate the number of months subscribed\n",
    "def calculate_months_subscribed(join_date, last_payment_date):\n",
    "    # Calculate the number of months subscribed\n",
    "    return (last_payment_date.year - join_date.year) * 12 + last_payment_date.month - join_date.month + (last_payment_date.day >= join_date.day)\n",
    "\n",
    "df['Number of Months Subscribed'] = df.apply(lambda row: calculate_months_subscribed(row['Join Date'], row['Last Payment Date']), axis=1)\n",
    "\n",
    "# Calculate CLTV\n",
    "df['CLTV (Total Revenue Per User)'] = df['Monthly Revenue'] * df['Number of Months Subscribed']\n",
    "\n",
    "# Print average and standard deviation\n",
    "print(f'Average number of months a user stays subscribed: {df[\"Number of Months Subscribed\"].mean():.2f} months.')\n",
    "print(f'Standard deviation for months subscribed: {df[\"Number of Months Subscribed\"].std():.2f} months.')\n"
   ]
  },
  {
   "cell_type": "code",
   "execution_count": 34,
   "id": "0f3a8a67-33d1-478a-8b76-7079e3e11170",
   "metadata": {},
   "outputs": [
    {
     "data": {
      "text/plain": [
       "Series([], Name: count, dtype: int64)"
      ]
     },
     "execution_count": 34,
     "metadata": {},
     "output_type": "execute_result"
    }
   ],
   "source": [
    "df[df['Number of Months Subscribed'] < 0].value_counts()"
   ]
  },
  {
   "cell_type": "markdown",
   "id": "0df1627d-4abe-4db4-8329-ff7dca16850f",
   "metadata": {},
   "source": [
    "***\n",
    "### Subscription Metrics\n",
    "***"
   ]
  },
  {
   "cell_type": "code",
   "execution_count": 35,
   "id": "ab4cab4c-91ef-482b-8351-49d94e7570cb",
   "metadata": {},
   "outputs": [
    {
     "data": {
      "image/png": "[encoded data removed]",
      "text/plain": [
       "<Figure size 640x480 with 1 Axes>"
      ]
     },
     "metadata": {},
     "output_type": "display_data"
    }
   ],
   "source": [
    "# Create histogram\n",
    "df['Number of Months Subscribed'].plot(kind='hist', \n",
    "                                       bins=20,  # Adjust the number of bins\n",
    "                                       color='blue',  # Choose a color\n",
    "                                       edgecolor='black',  # Add edge color for better visibility\n",
    "                                       alpha=0.7)  # Adjust transparency for better overlapping\n",
    "\n",
    "plt.title('Distribution of Number of Months Subscribed', fontsize=16)\n",
    "plt.xlabel('Number of Months Subscribed', fontsize=14)\n",
    "plt.ylabel('Frequency of Users', fontsize=14)\n",
    "plt.show()"
   ]
  },
  {
   "cell_type": "code",
   "execution_count": 36,
   "id": "40dc47ca-edd9-46c6-b051-5c9209023090",
   "metadata": {},
   "outputs": [
    {
     "name": "stdout",
     "output_type": "stream",
     "text": [
      "Average number of months a user stays subscribed: 10.6804 months.\n",
      "Standard deviation for months subscribed: 2.07 months.\n"
     ]
    }
   ],
   "source": [
    "print(f'Average number of months a user stays subscribed: {df['Number of Months Subscribed'].mean()} months.')\n",
    "print(f'Standard deviation for months subscribed: {df['Number of Months Subscribed'].std():.2f} months.')"
   ]
  },
  {
   "cell_type": "code",
   "execution_count": 37,
   "id": "c6e437d9-d507-4efa-8464-31f77e404551",
   "metadata": {},
   "outputs": [
    {
     "name": "stdout",
     "output_type": "stream",
     "text": [
      "Active users count: 2499\n",
      "Inactive users count: 1\n",
      "Percent of active users: 99.96%.\n"
     ]
    }
   ],
   "source": [
    "\n",
    "# Convert 'Last Payment Date' to datetime\n",
    "df['Last Payment Date'] = pd.to_datetime(df['Last Payment Date'], format='%d-%m-%Y')\n",
    "\n",
    "# Calculate the cutoff date for active users\n",
    "last_date = df['Last Payment Date'].max()\n",
    "cutoff_date = last_date - pd.Timedelta(days=30)\n",
    "\n",
    "# Determine the status of each user\n",
    "df['Status'] = df['Last Payment Date'].apply(lambda x: 'Active' if x >= cutoff_date else 'Inactive')\n",
    "\n",
    "# Count active and inactive users\n",
    "active_count = df[df['Status'] == 'Active'].shape[0]\n",
    "inactive_count = df[df['Status'] == 'Inactive'].shape[0]\n",
    "total_count = active_count + inactive_count\n",
    "\n",
    "# Print counts\n",
    "print(f\"Active users count: {active_count}\")\n",
    "print(f\"Inactive users count: {inactive_count}\")\n",
    "\n",
    "# Calculate percentage of active users\n",
    "if total_count > 0:\n",
    "    percent_active_accounts = 100 * active_count / total_count\n",
    "else:\n",
    "    percent_active_accounts = 0\n",
    "\n",
    "print(f'Percent of active users: {round(percent_active_accounts, 2)}%.')\n"
   ]
  },
  {
   "cell_type": "code",
   "execution_count": 38,
   "id": "9dccaa5d-0596-40e5-b088-9f3fefea7b63",
   "metadata": {},
   "outputs": [
    {
     "name": "stdout",
     "output_type": "stream",
     "text": [
      "Customer churn rate: 0.04%.\n",
      "Retention Rate: 99.96%\n"
     ]
    }
   ],
   "source": [
    "#Churn rate\n",
    "churn_rate = (df[df['Status'] == 'Inactive']['User ID'].nunique()) / df['User ID'].nunique()\n",
    "print(f'Customer churn rate: {churn_rate:.2%}.')\n",
    "\n",
    "#Retention Rate\n",
    "retention_rate = 1 - churn_rate\n",
    "print(f\"Retention Rate: {retention_rate:.2%}\")"
   ]
  },
  {
   "cell_type": "code",
   "execution_count": 39,
   "id": "07224956-fdc2-4e43-bec3-5f88c3db0d08",
   "metadata": {},
   "outputs": [
    {
     "data": {
      "text/plain": [
       "Subscription Type\n",
       "Basic       999\n",
       "Standard    768\n",
       "Premium     733\n",
       "Name: User ID, dtype: int64"
      ]
     },
     "execution_count": 39,
     "metadata": {},
     "output_type": "execute_result"
    }
   ],
   "source": [
    "#subscription distribution\n",
    "sub_type_count = df.groupby('Subscription Type')['User ID'].count().sort_values(ascending = False)\n",
    "sub_type_count"
   ]
  },
  {
   "cell_type": "code",
   "execution_count": 40,
   "id": "178cbcc9-59af-4bc7-997c-7104fca09f4c",
   "metadata": {},
   "outputs": [
    {
     "name": "stdout",
     "output_type": "stream",
     "text": [
      "Country\n",
      "United States     4778\n",
      "Spain             4686\n",
      "Canada            3420\n",
      "France            2038\n",
      "United Kingdom    2035\n",
      "Australia         2000\n",
      "Brazil            1989\n",
      "Mexico            1970\n",
      "Germany           1946\n",
      "Italy             1839\n",
      "Name: Number of Months Subscribed, dtype: int64\n"
     ]
    }
   ],
   "source": [
    "months_by_country = df.groupby('Country')['Number of Months Subscribed'].sum().sort_values(ascending = False)\n",
    "print(months_by_country)"
   ]
  },
  {
   "cell_type": "markdown",
   "id": "3f3aeac1-8e26-4265-89fa-fe071df1c4aa",
   "metadata": {},
   "source": [
    "***\n",
    "### Revenue Metrics\n",
    "***"
   ]
  },
  {
   "cell_type": "code",
   "execution_count": 41,
   "id": "b2f56ed4-df0a-43f3-bfc2-25426bc4fd87",
   "metadata": {},
   "outputs": [
    {
     "name": "stdout",
     "output_type": "stream",
     "text": [
      "Total Lifetime Average Revenue per User is: $133.59 USD.\n"
     ]
    }
   ],
   "source": [
    "#Average Revenue Per User (ARPU): Total Revenue / Total Number of Users\n",
    "ARPU = round(df['CLTV (Total Revenue Per User)'].sum() / df['User ID'].count(),2)\n",
    "print(f'Total Lifetime Average Revenue per User is: ${ARPU} USD.')"
   ]
  },
  {
   "cell_type": "code",
   "execution_count": 42,
   "id": "2e9ff0b2-9306-429f-948a-e79ba23799b4",
   "metadata": {},
   "outputs": [
    {
     "data": {
      "text/plain": [
       "Subscription Type\n",
       "Basic       132617\n",
       "Standard    103122\n",
       "Premium      98237\n",
       "Name: CLTV (Total Revenue Per User), dtype: int64"
      ]
     },
     "execution_count": 42,
     "metadata": {},
     "output_type": "execute_result"
    }
   ],
   "source": [
    "#Revenue by Subscription Type: Calculate revenue generated by each subscription type (Basic, Standard, Premium).\n",
    "sub_type = df.groupby('Subscription Type')\n",
    "sub_type['CLTV (Total Revenue Per User)'].sum().sort_values(ascending = False)"
   ]
  },
  {
   "cell_type": "code",
   "execution_count": 43,
   "id": "e9520bd8-9ee6-43e7-94ef-1bef5aa7a25d",
   "metadata": {},
   "outputs": [
    {
     "name": "stdout",
     "output_type": "stream",
     "text": [
      "Total Monthly Revenue: $333976 USD.\n"
     ]
    }
   ],
   "source": [
    "#Total Monthly Revenue\n",
    "total_monthly_revenue = df['CLTV (Total Revenue Per User)'].sum()\n",
    "print(f'Total Monthly Revenue: ${total_monthly_revenue} USD.')"
   ]
  },
  {
   "cell_type": "code",
   "execution_count": 44,
   "id": "bdd28151-b3be-4a0c-ad46-0800add31101",
   "metadata": {},
   "outputs": [
    {
     "name": "stdout",
     "output_type": "stream",
     "text": [
      "Average revenue generated per user: $133.59 USD.\n",
      "Standard deviation for revenue generated per user: $31.51 USD.\n"
     ]
    }
   ],
   "source": [
    "print(f'Average revenue generated per user: ${df['CLTV (Total Revenue Per User)'].mean():.2f} USD.')\n",
    "print(f'Standard deviation for revenue generated per user: ${df['CLTV (Total Revenue Per User)'].std():.2f} USD.')"
   ]
  },
  {
   "cell_type": "code",
   "execution_count": 45,
   "id": "65fc7cf9-cf1c-40d8-9feb-b70940a378a4",
   "metadata": {},
   "outputs": [
    {
     "name": "stdout",
     "output_type": "stream",
     "text": [
      "Country\n",
      "United States     5664\n",
      "Spain             5662\n",
      "Canada            3950\n",
      "United Kingdom    2318\n",
      "Italy             2317\n",
      "France            2307\n",
      "Brazil            2285\n",
      "Australia         2271\n",
      "Germany           2260\n",
      "Mexico            2237\n",
      "Name: Monthly Revenue, dtype: int64\n"
     ]
    }
   ],
   "source": [
    "revenue_by_country = df.groupby('Country')['Monthly Revenue'].sum().sort_values(ascending = False)\n",
    "print(revenue_by_country)\n"
   ]
  },
  {
   "cell_type": "code",
   "execution_count": 46,
   "id": "b1bec9c4-f93b-4f3a-bab5-23da14594626",
   "metadata": {},
   "outputs": [
    {
     "data": {
      "text/plain": [
       "Country\n",
       "Italy             23399\n",
       "Germany           24044\n",
       "Mexico            24050\n",
       "Brazil            24755\n",
       "Australia         24793\n",
       "United Kingdom    25789\n",
       "France            25813\n",
       "Canada            42653\n",
       "Spain             58752\n",
       "United States     59928\n",
       "Name: CLTV (Total Revenue Per User), dtype: int64"
      ]
     },
     "execution_count": 46,
     "metadata": {},
     "output_type": "execute_result"
    }
   ],
   "source": [
    "sum_cltv_by_country = df.groupby('Country')['CLTV (Total Revenue Per User)'].sum().sort_values(ascending= True)\n",
    "sum_cltv_by_country"
   ]
  },
  {
   "cell_type": "code",
   "execution_count": 47,
   "id": "80cec0a8-c5ca-4485-b113-9b3faefc7ab0",
   "metadata": {},
   "outputs": [
    {
     "data": {
      "image/png": "[encoded data removed]",
      "text/plain": [
       "<Figure size 1200x600 with 1 Axes>"
      ]
     },
     "metadata": {},
     "output_type": "display_data"
    }
   ],
   "source": [
    "plt.figure(figsize = (12,6))\n",
    "sum_cltv_by_country.plot(kind = 'barh', color = 'blue')\n",
    "plt.title(\"Sum of CLTV by Country\")\n",
    "plt.xlabel(\"Sum of CLTV\")\n",
    "plt.ylabel(\"Country\")\n",
    "plt.show()"
   ]
  },
  {
   "cell_type": "code",
   "execution_count": 48,
   "id": "9eb3ffb0-23d7-4a16-96b7-008e3ae875e0",
   "metadata": {},
   "outputs": [
    {
     "data": {
      "text/plain": [
       "Country\n",
       "Italy             127.863388\n",
       "Spain             130.270510\n",
       "Germany           131.387978\n",
       "Mexico            131.420765\n",
       "United States     132.878049\n",
       "Canada            134.552050\n",
       "Brazil            135.273224\n",
       "Australia         135.480874\n",
       "United Kingdom    140.923497\n",
       "France            141.054645\n",
       "Name: CLTV (Total Revenue Per User), dtype: float64"
      ]
     },
     "execution_count": 48,
     "metadata": {},
     "output_type": "execute_result"
    }
   ],
   "source": [
    "avg_cltv_by_country = df.groupby('Country')['CLTV (Total Revenue Per User)'].mean().sort_values(ascending= True)\n",
    "avg_cltv_by_country "
   ]
  },
  {
   "cell_type": "code",
   "execution_count": 49,
   "id": "ad4e58e8-9765-4c12-a6d5-7fa16218c2fc",
   "metadata": {},
   "outputs": [
    {
     "data": {
      "image/png": "[encoded data removed]",
      "text/plain": [
       "<Figure size 1200x600 with 1 Axes>"
      ]
     },
     "metadata": {},
     "output_type": "display_data"
    }
   ],
   "source": [
    "plt.figure(figsize = (12,6))\n",
    "avg_cltv_by_country.plot(kind = 'barh', color = 'blue')\n",
    "plt.title(\"Average of CLTV by Country\")\n",
    "plt.xlabel(\"Average of CLTV\")\n",
    "plt.ylabel(\"Country\")\n",
    "plt.show()\n",
    "\n",
    "#why does UK and France have higher average CLTV despite US having more subscribers?\n",
    "#-- because there are more basic subscribers in US. to increase CLTV see if you can promote US customer base to use higher teir subscriptions"
   ]
  },
  {
   "cell_type": "code",
   "execution_count": 50,
   "id": "e5324865-73df-4000-b19e-00cea19f6a49",
   "metadata": {},
   "outputs": [
    {
     "data": {
      "text/plain": [
       "Device\n",
       "Smart TV      80703\n",
       "Smartphone    83052\n",
       "Laptop        84294\n",
       "Tablet        85927\n",
       "Name: CLTV (Total Revenue Per User), dtype: int64"
      ]
     },
     "execution_count": 50,
     "metadata": {},
     "output_type": "execute_result"
    }
   ],
   "source": [
    "revenue_by_device = df.groupby('Device')['CLTV (Total Revenue Per User)'].sum().sort_values(ascending = True)\n",
    "revenue_by_device"
   ]
  },
  {
   "cell_type": "code",
   "execution_count": 51,
   "id": "5913a85f-f9e0-4aa8-b692-24c408bbbb73",
   "metadata": {},
   "outputs": [
    {
     "data": {
      "image/png": "[encoded data removed]",
      "text/plain": [
       "<Figure size 1200x600 with 1 Axes>"
      ]
     },
     "metadata": {},
     "output_type": "display_data"
    }
   ],
   "source": [
    "plt.figure(figsize = (12,6))\n",
    "revenue_by_device.plot(kind = 'barh', color = 'blue')\n",
    "plt.title(\"Sum of CLTV by Device\")\n",
    "plt.xlabel(\"Sum of CLTV\")\n",
    "plt.ylabel(\"Device\")\n",
    "plt.show()\n"
   ]
  },
  {
   "cell_type": "markdown",
   "id": "0f61f01e-c5b3-4611-9be2-cc8147baebf3",
   "metadata": {},
   "source": [
    "***\n",
    "### User Behaviour Metrics\n",
    "***"
   ]
  },
  {
   "cell_type": "code",
   "execution_count": 52,
   "id": "a2940968-5194-4c9e-b3b3-9b901c9ad2e8",
   "metadata": {},
   "outputs": [
    {
     "data": {
      "text/plain": [
       "Device\n",
       "Laptop        636\n",
       "Tablet        633\n",
       "Smartphone    621\n",
       "Smart TV      610\n",
       "Name: User ID, dtype: int64"
      ]
     },
     "execution_count": 52,
     "metadata": {},
     "output_type": "execute_result"
    }
   ],
   "source": [
    "device_type = df.groupby('Device')['User ID'].count().sort_values(ascending = False)\n",
    "device_type"
   ]
  },
  {
   "cell_type": "code",
   "execution_count": 53,
   "id": "394aeeeb-1688-4eba-a550-fdd14d803565",
   "metadata": {},
   "outputs": [
    {
     "name": "stdout",
     "output_type": "stream",
     "text": [
      "Gender\n",
      "Female    0.5028\n",
      "Male      0.4972\n",
      "Name: proportion, dtype: float64\n"
     ]
    }
   ],
   "source": [
    "#gender distribusion\n",
    "gender_distribution = df['Gender'].value_counts(normalize=True)\n",
    "print(gender_distribution)\n"
   ]
  },
  {
   "cell_type": "code",
   "execution_count": null,
   "id": "2b88c2ad-bcf4-44eb-9d34-007c450efcd2",
   "metadata": {},
   "outputs": [],
   "source": []
  },
  {
   "cell_type": "code",
   "execution_count": 54,
   "id": "24bfeb11-d27a-4dad-ad44-fc1f2fe35b09",
   "metadata": {},
   "outputs": [
    {
     "data": {
      "text/html": [
       "<div>\n",
       "<style scoped>\n",
       "    .dataframe tbody tr th:only-of-type {\n",
       "        vertical-align: middle;\n",
       "    }\n",
       "\n",
       "    .dataframe tbody tr th {\n",
       "        vertical-align: top;\n",
       "    }\n",
       "\n",
       "    .dataframe thead th {\n",
       "        text-align: right;\n",
       "    }\n",
       "</style>\n",
       "<table border=\"1\" class=\"dataframe\">\n",
       "  <thead>\n",
       "    <tr style=\"text-align: right;\">\n",
       "      <th></th>\n",
       "      <th>User ID</th>\n",
       "      <th>Subscription Type</th>\n",
       "      <th>Monthly Revenue</th>\n",
       "      <th>Join Date</th>\n",
       "      <th>Last Payment Date</th>\n",
       "      <th>Country</th>\n",
       "      <th>Age</th>\n",
       "      <th>Gender</th>\n",
       "      <th>Device</th>\n",
       "      <th>Plan Duration</th>\n",
       "      <th>Number of Months Subscribed</th>\n",
       "      <th>CLTV (Total Revenue Per User)</th>\n",
       "      <th>Status</th>\n",
       "      <th>Time Since Last Payment</th>\n",
       "    </tr>\n",
       "  </thead>\n",
       "  <tbody>\n",
       "    <tr>\n",
       "      <th>0</th>\n",
       "      <td>1</td>\n",
       "      <td>Basic</td>\n",
       "      <td>10</td>\n",
       "      <td>2022-01-15</td>\n",
       "      <td>2023-06-10</td>\n",
       "      <td>United States</td>\n",
       "      <td>28</td>\n",
       "      <td>Male</td>\n",
       "      <td>Smartphone</td>\n",
       "      <td>1 Month</td>\n",
       "      <td>17</td>\n",
       "      <td>170</td>\n",
       "      <td>Inactive</td>\n",
       "      <td>35 days</td>\n",
       "    </tr>\n",
       "    <tr>\n",
       "      <th>1</th>\n",
       "      <td>2</td>\n",
       "      <td>Premium</td>\n",
       "      <td>15</td>\n",
       "      <td>2021-09-05</td>\n",
       "      <td>2023-06-22</td>\n",
       "      <td>Canada</td>\n",
       "      <td>35</td>\n",
       "      <td>Female</td>\n",
       "      <td>Tablet</td>\n",
       "      <td>1 Month</td>\n",
       "      <td>22</td>\n",
       "      <td>330</td>\n",
       "      <td>Active</td>\n",
       "      <td>23 days</td>\n",
       "    </tr>\n",
       "    <tr>\n",
       "      <th>2</th>\n",
       "      <td>3</td>\n",
       "      <td>Standard</td>\n",
       "      <td>12</td>\n",
       "      <td>2023-02-28</td>\n",
       "      <td>2023-06-27</td>\n",
       "      <td>United Kingdom</td>\n",
       "      <td>42</td>\n",
       "      <td>Male</td>\n",
       "      <td>Smart TV</td>\n",
       "      <td>1 Month</td>\n",
       "      <td>4</td>\n",
       "      <td>48</td>\n",
       "      <td>Active</td>\n",
       "      <td>18 days</td>\n",
       "    </tr>\n",
       "    <tr>\n",
       "      <th>3</th>\n",
       "      <td>4</td>\n",
       "      <td>Standard</td>\n",
       "      <td>12</td>\n",
       "      <td>2022-07-10</td>\n",
       "      <td>2023-06-26</td>\n",
       "      <td>Australia</td>\n",
       "      <td>51</td>\n",
       "      <td>Female</td>\n",
       "      <td>Laptop</td>\n",
       "      <td>1 Month</td>\n",
       "      <td>12</td>\n",
       "      <td>144</td>\n",
       "      <td>Active</td>\n",
       "      <td>19 days</td>\n",
       "    </tr>\n",
       "    <tr>\n",
       "      <th>4</th>\n",
       "      <td>5</td>\n",
       "      <td>Basic</td>\n",
       "      <td>10</td>\n",
       "      <td>2023-05-01</td>\n",
       "      <td>2023-06-28</td>\n",
       "      <td>Germany</td>\n",
       "      <td>33</td>\n",
       "      <td>Male</td>\n",
       "      <td>Smartphone</td>\n",
       "      <td>1 Month</td>\n",
       "      <td>2</td>\n",
       "      <td>20</td>\n",
       "      <td>Active</td>\n",
       "      <td>17 days</td>\n",
       "    </tr>\n",
       "  </tbody>\n",
       "</table>\n",
       "</div>"
      ],
      "text/plain": [
       "   User ID Subscription Type  Monthly Revenue  Join Date Last Payment Date  \\\n",
       "0        1             Basic               10 2022-01-15        2023-06-10   \n",
       "1        2           Premium               15 2021-09-05        2023-06-22   \n",
       "2        3          Standard               12 2023-02-28        2023-06-27   \n",
       "3        4          Standard               12 2022-07-10        2023-06-26   \n",
       "4        5             Basic               10 2023-05-01        2023-06-28   \n",
       "\n",
       "          Country  Age  Gender      Device Plan Duration  \\\n",
       "0   United States   28    Male  Smartphone       1 Month   \n",
       "1          Canada   35  Female      Tablet       1 Month   \n",
       "2  United Kingdom   42    Male    Smart TV       1 Month   \n",
       "3       Australia   51  Female      Laptop       1 Month   \n",
       "4         Germany   33    Male  Smartphone       1 Month   \n",
       "\n",
       "   Number of Months Subscribed  CLTV (Total Revenue Per User)    Status  \\\n",
       "0                           17                            170  Inactive   \n",
       "1                           22                            330    Active   \n",
       "2                            4                             48    Active   \n",
       "3                           12                            144    Active   \n",
       "4                            2                             20    Active   \n",
       "\n",
       "  Time Since Last Payment  \n",
       "0                 35 days  \n",
       "1                 23 days  \n",
       "2                 18 days  \n",
       "3                 19 days  \n",
       "4                 17 days  "
      ]
     },
     "execution_count": 54,
     "metadata": {},
     "output_type": "execute_result"
    }
   ],
   "source": [
    "# Time Since Last Payment: Difference between the current date and the last payment date for each user.\n",
    "df['Time Since Last Payment'] = last_date -  df['Last Payment Date']\n",
    "df.head()"
   ]
  },
  {
   "cell_type": "code",
   "execution_count": 55,
   "id": "21a60674-2ac4-4598-9815-1924247a9ceb",
   "metadata": {},
   "outputs": [
    {
     "name": "stdout",
     "output_type": "stream",
     "text": [
      "Average User Age: 38.80 years\n"
     ]
    }
   ],
   "source": [
    "#Average user age\n",
    "average_age = df['Age'].mean()\n",
    "print(f\"Average User Age: {average_age:.2f} years\")"
   ]
  },
  {
   "cell_type": "markdown",
   "id": "b0a9efb6-c8d9-4616-ad2b-07c677fd1145",
   "metadata": {},
   "source": [
    "***\n",
    "### Bivariate Analysis\n",
    "***"
   ]
  },
  {
   "cell_type": "code",
   "execution_count": 56,
   "id": "69835bf5-2737-43a3-8601-30f1725dd5be",
   "metadata": {
    "scrolled": true
   },
   "outputs": [
    {
     "data": {
      "image/png": "[encoded data removed]",
      "text/plain": [
       "<Figure size 640x480 with 1 Axes>"
      ]
     },
     "metadata": {},
     "output_type": "display_data"
    }
   ],
   "source": [
    "sns.boxplot(x='Subscription Type', y='Number of Months Subscribed', data=df)\n",
    "plt.title('Number of Months Subscribed by Subscription Type ')\n",
    "plt.show()\n"
   ]
  },
  {
   "cell_type": "code",
   "execution_count": 57,
   "id": "4a47cabc-c921-4db9-9b06-bfd88c46d91e",
   "metadata": {
    "scrolled": true
   },
   "outputs": [
    {
     "data": {
      "image/png": "[encoded data removed]",
      "text/plain": [
       "<Figure size 640x480 with 1 Axes>"
      ]
     },
     "metadata": {},
     "output_type": "display_data"
    }
   ],
   "source": [
    "sns.boxplot(x='Device', y='Number of Months Subscribed', data=df)\n",
    "plt.title('Number of Months Subscribed by Device')\n",
    "plt.show()"
   ]
  },
  {
   "cell_type": "code",
   "execution_count": 58,
   "id": "884c5313-4823-42db-a160-60346888392b",
   "metadata": {},
   "outputs": [
    {
     "data": {
      "image/png": "[encoded data removed]",
      "text/plain": [
       "<Figure size 640x480 with 1 Axes>"
      ]
     },
     "metadata": {},
     "output_type": "display_data"
    }
   ],
   "source": [
    "sns.boxplot(x='Gender', y='Number of Months Subscribed', data=df)\n",
    "plt.title('Number of Months Subscribed by Gender')\n",
    "plt.show()"
   ]
  },
  {
   "cell_type": "code",
   "execution_count": 59,
   "id": "67720ed3-abc4-4303-aa1f-485f4d6aaa20",
   "metadata": {},
   "outputs": [
    {
     "data": {
      "image/png": "[encoded data removed]",
      "text/plain": [
       "<Figure size 1200x600 with 1 Axes>"
      ]
     },
     "metadata": {},
     "output_type": "display_data"
    }
   ],
   "source": [
    "plt.figure(figsize=(12, 6))\n",
    "sns.boxplot(x='Country', y='Number of Months Subscribed', data=df)\n",
    "plt.title('Number of Months Subscribed by Gender')\n",
    "plt.show()"
   ]
  },
  {
   "cell_type": "code",
   "execution_count": null,
   "id": "64a753bc-0a27-4b35-9b8e-ce765a5135a6",
   "metadata": {},
   "outputs": [],
   "source": []
  },
  {
   "cell_type": "code",
   "execution_count": 60,
   "id": "0bdacf5a-fa33-4d64-9d29-e198c5f2dd9e",
   "metadata": {},
   "outputs": [
    {
     "data": {
      "text/html": [
       "<div>\n",
       "<style scoped>\n",
       "    .dataframe tbody tr th:only-of-type {\n",
       "        vertical-align: middle;\n",
       "    }\n",
       "\n",
       "    .dataframe tbody tr th {\n",
       "        vertical-align: top;\n",
       "    }\n",
       "\n",
       "    .dataframe thead th {\n",
       "        text-align: right;\n",
       "    }\n",
       "</style>\n",
       "<table border=\"1\" class=\"dataframe\">\n",
       "  <thead>\n",
       "    <tr style=\"text-align: right;\">\n",
       "      <th>Subscription Type</th>\n",
       "      <th>Basic</th>\n",
       "      <th>Premium</th>\n",
       "      <th>Standard</th>\n",
       "      <th>Total</th>\n",
       "    </tr>\n",
       "    <tr>\n",
       "      <th>Country</th>\n",
       "      <th></th>\n",
       "      <th></th>\n",
       "      <th></th>\n",
       "      <th></th>\n",
       "    </tr>\n",
       "  </thead>\n",
       "  <tbody>\n",
       "    <tr>\n",
       "      <th>Australia</th>\n",
       "      <td>31</td>\n",
       "      <td>101</td>\n",
       "      <td>51</td>\n",
       "      <td>183</td>\n",
       "    </tr>\n",
       "    <tr>\n",
       "      <th>Brazil</th>\n",
       "      <td>146</td>\n",
       "      <td>33</td>\n",
       "      <td>4</td>\n",
       "      <td>183</td>\n",
       "    </tr>\n",
       "    <tr>\n",
       "      <th>Canada</th>\n",
       "      <td>145</td>\n",
       "      <td>88</td>\n",
       "      <td>84</td>\n",
       "      <td>317</td>\n",
       "    </tr>\n",
       "    <tr>\n",
       "      <th>France</th>\n",
       "      <td>36</td>\n",
       "      <td>147</td>\n",
       "      <td>0</td>\n",
       "      <td>183</td>\n",
       "    </tr>\n",
       "    <tr>\n",
       "      <th>Germany</th>\n",
       "      <td>149</td>\n",
       "      <td>3</td>\n",
       "      <td>31</td>\n",
       "      <td>183</td>\n",
       "    </tr>\n",
       "    <tr>\n",
       "      <th>Italy</th>\n",
       "      <td>176</td>\n",
       "      <td>4</td>\n",
       "      <td>3</td>\n",
       "      <td>183</td>\n",
       "    </tr>\n",
       "    <tr>\n",
       "      <th>Mexico</th>\n",
       "      <td>4</td>\n",
       "      <td>0</td>\n",
       "      <td>179</td>\n",
       "      <td>183</td>\n",
       "    </tr>\n",
       "    <tr>\n",
       "      <th>Spain</th>\n",
       "      <td>110</td>\n",
       "      <td>212</td>\n",
       "      <td>129</td>\n",
       "      <td>451</td>\n",
       "    </tr>\n",
       "    <tr>\n",
       "      <th>United Kingdom</th>\n",
       "      <td>3</td>\n",
       "      <td>0</td>\n",
       "      <td>180</td>\n",
       "      <td>183</td>\n",
       "    </tr>\n",
       "    <tr>\n",
       "      <th>United States</th>\n",
       "      <td>199</td>\n",
       "      <td>145</td>\n",
       "      <td>107</td>\n",
       "      <td>451</td>\n",
       "    </tr>\n",
       "  </tbody>\n",
       "</table>\n",
       "</div>"
      ],
      "text/plain": [
       "Subscription Type  Basic  Premium  Standard  Total\n",
       "Country                                           \n",
       "Australia             31      101        51    183\n",
       "Brazil               146       33         4    183\n",
       "Canada               145       88        84    317\n",
       "France                36      147         0    183\n",
       "Germany              149        3        31    183\n",
       "Italy                176        4         3    183\n",
       "Mexico                 4        0       179    183\n",
       "Spain                110      212       129    451\n",
       "United Kingdom         3        0       180    183\n",
       "United States        199      145       107    451"
      ]
     },
     "execution_count": 60,
     "metadata": {},
     "output_type": "execute_result"
    }
   ],
   "source": [
    "#will use powerbi to create more complex visuals\n",
    "sub_by_country_type = df.pivot_table(index = 'Country', columns = 'Subscription Type', values = 'User ID', aggfunc = 'count', fill_value = 0)\n",
    "sub_by_country_type['Total'] = sub_by_country_type.sum(axis = 1)\n",
    "sub_by_country_type"
   ]
  },
  {
   "cell_type": "code",
   "execution_count": 61,
   "id": "1a5f80c8-3952-4add-9ec9-61206b929a9d",
   "metadata": {},
   "outputs": [
    {
     "data": {
      "text/html": [
       "<div>\n",
       "<style scoped>\n",
       "    .dataframe tbody tr th:only-of-type {\n",
       "        vertical-align: middle;\n",
       "    }\n",
       "\n",
       "    .dataframe tbody tr th {\n",
       "        vertical-align: top;\n",
       "    }\n",
       "\n",
       "    .dataframe thead th {\n",
       "        text-align: right;\n",
       "    }\n",
       "</style>\n",
       "<table border=\"1\" class=\"dataframe\">\n",
       "  <thead>\n",
       "    <tr style=\"text-align: right;\">\n",
       "      <th></th>\n",
       "      <th>User ID</th>\n",
       "      <th>Subscription Type</th>\n",
       "      <th>Monthly Revenue</th>\n",
       "      <th>Join Date</th>\n",
       "      <th>Last Payment Date</th>\n",
       "      <th>Country</th>\n",
       "      <th>Age</th>\n",
       "      <th>Gender</th>\n",
       "      <th>Device</th>\n",
       "      <th>Plan Duration</th>\n",
       "      <th>Number of Months Subscribed</th>\n",
       "      <th>CLTV (Total Revenue Per User)</th>\n",
       "      <th>Status</th>\n",
       "      <th>Time Since Last Payment</th>\n",
       "    </tr>\n",
       "  </thead>\n",
       "  <tbody>\n",
       "    <tr>\n",
       "      <th>0</th>\n",
       "      <td>1</td>\n",
       "      <td>Basic</td>\n",
       "      <td>10</td>\n",
       "      <td>2022-01-15</td>\n",
       "      <td>2023-06-10</td>\n",
       "      <td>United States</td>\n",
       "      <td>28</td>\n",
       "      <td>Male</td>\n",
       "      <td>Smartphone</td>\n",
       "      <td>1 Month</td>\n",
       "      <td>17</td>\n",
       "      <td>170</td>\n",
       "      <td>Inactive</td>\n",
       "      <td>35 days</td>\n",
       "    </tr>\n",
       "    <tr>\n",
       "      <th>1</th>\n",
       "      <td>2</td>\n",
       "      <td>Premium</td>\n",
       "      <td>15</td>\n",
       "      <td>2021-09-05</td>\n",
       "      <td>2023-06-22</td>\n",
       "      <td>Canada</td>\n",
       "      <td>35</td>\n",
       "      <td>Female</td>\n",
       "      <td>Tablet</td>\n",
       "      <td>1 Month</td>\n",
       "      <td>22</td>\n",
       "      <td>330</td>\n",
       "      <td>Active</td>\n",
       "      <td>23 days</td>\n",
       "    </tr>\n",
       "    <tr>\n",
       "      <th>2</th>\n",
       "      <td>3</td>\n",
       "      <td>Standard</td>\n",
       "      <td>12</td>\n",
       "      <td>2023-02-28</td>\n",
       "      <td>2023-06-27</td>\n",
       "      <td>United Kingdom</td>\n",
       "      <td>42</td>\n",
       "      <td>Male</td>\n",
       "      <td>Smart TV</td>\n",
       "      <td>1 Month</td>\n",
       "      <td>4</td>\n",
       "      <td>48</td>\n",
       "      <td>Active</td>\n",
       "      <td>18 days</td>\n",
       "    </tr>\n",
       "    <tr>\n",
       "      <th>3</th>\n",
       "      <td>4</td>\n",
       "      <td>Standard</td>\n",
       "      <td>12</td>\n",
       "      <td>2022-07-10</td>\n",
       "      <td>2023-06-26</td>\n",
       "      <td>Australia</td>\n",
       "      <td>51</td>\n",
       "      <td>Female</td>\n",
       "      <td>Laptop</td>\n",
       "      <td>1 Month</td>\n",
       "      <td>12</td>\n",
       "      <td>144</td>\n",
       "      <td>Active</td>\n",
       "      <td>19 days</td>\n",
       "    </tr>\n",
       "    <tr>\n",
       "      <th>4</th>\n",
       "      <td>5</td>\n",
       "      <td>Basic</td>\n",
       "      <td>10</td>\n",
       "      <td>2023-05-01</td>\n",
       "      <td>2023-06-28</td>\n",
       "      <td>Germany</td>\n",
       "      <td>33</td>\n",
       "      <td>Male</td>\n",
       "      <td>Smartphone</td>\n",
       "      <td>1 Month</td>\n",
       "      <td>2</td>\n",
       "      <td>20</td>\n",
       "      <td>Active</td>\n",
       "      <td>17 days</td>\n",
       "    </tr>\n",
       "    <tr>\n",
       "      <th>...</th>\n",
       "      <td>...</td>\n",
       "      <td>...</td>\n",
       "      <td>...</td>\n",
       "      <td>...</td>\n",
       "      <td>...</td>\n",
       "      <td>...</td>\n",
       "      <td>...</td>\n",
       "      <td>...</td>\n",
       "      <td>...</td>\n",
       "      <td>...</td>\n",
       "      <td>...</td>\n",
       "      <td>...</td>\n",
       "      <td>...</td>\n",
       "      <td>...</td>\n",
       "    </tr>\n",
       "    <tr>\n",
       "      <th>2495</th>\n",
       "      <td>2496</td>\n",
       "      <td>Premium</td>\n",
       "      <td>14</td>\n",
       "      <td>2022-07-25</td>\n",
       "      <td>2023-07-12</td>\n",
       "      <td>Spain</td>\n",
       "      <td>28</td>\n",
       "      <td>Female</td>\n",
       "      <td>Smart TV</td>\n",
       "      <td>1 Month</td>\n",
       "      <td>12</td>\n",
       "      <td>168</td>\n",
       "      <td>Active</td>\n",
       "      <td>3 days</td>\n",
       "    </tr>\n",
       "    <tr>\n",
       "      <th>2496</th>\n",
       "      <td>2497</td>\n",
       "      <td>Basic</td>\n",
       "      <td>15</td>\n",
       "      <td>2022-08-04</td>\n",
       "      <td>2023-07-14</td>\n",
       "      <td>Spain</td>\n",
       "      <td>33</td>\n",
       "      <td>Female</td>\n",
       "      <td>Smart TV</td>\n",
       "      <td>1 Month</td>\n",
       "      <td>12</td>\n",
       "      <td>180</td>\n",
       "      <td>Active</td>\n",
       "      <td>1 days</td>\n",
       "    </tr>\n",
       "    <tr>\n",
       "      <th>2497</th>\n",
       "      <td>2498</td>\n",
       "      <td>Standard</td>\n",
       "      <td>12</td>\n",
       "      <td>2022-08-09</td>\n",
       "      <td>2023-07-15</td>\n",
       "      <td>United States</td>\n",
       "      <td>38</td>\n",
       "      <td>Male</td>\n",
       "      <td>Laptop</td>\n",
       "      <td>1 Month</td>\n",
       "      <td>12</td>\n",
       "      <td>144</td>\n",
       "      <td>Active</td>\n",
       "      <td>0 days</td>\n",
       "    </tr>\n",
       "    <tr>\n",
       "      <th>2498</th>\n",
       "      <td>2499</td>\n",
       "      <td>Standard</td>\n",
       "      <td>13</td>\n",
       "      <td>2022-08-12</td>\n",
       "      <td>2023-07-12</td>\n",
       "      <td>Canada</td>\n",
       "      <td>48</td>\n",
       "      <td>Female</td>\n",
       "      <td>Tablet</td>\n",
       "      <td>1 Month</td>\n",
       "      <td>12</td>\n",
       "      <td>156</td>\n",
       "      <td>Active</td>\n",
       "      <td>3 days</td>\n",
       "    </tr>\n",
       "    <tr>\n",
       "      <th>2499</th>\n",
       "      <td>2500</td>\n",
       "      <td>Basic</td>\n",
       "      <td>15</td>\n",
       "      <td>2022-08-13</td>\n",
       "      <td>2023-07-12</td>\n",
       "      <td>United States</td>\n",
       "      <td>35</td>\n",
       "      <td>Female</td>\n",
       "      <td>Smart TV</td>\n",
       "      <td>1 Month</td>\n",
       "      <td>11</td>\n",
       "      <td>165</td>\n",
       "      <td>Active</td>\n",
       "      <td>3 days</td>\n",
       "    </tr>\n",
       "  </tbody>\n",
       "</table>\n",
       "<p>2500 rows × 14 columns</p>\n",
       "</div>"
      ],
      "text/plain": [
       "      User ID Subscription Type  Monthly Revenue  Join Date Last Payment Date  \\\n",
       "0           1             Basic               10 2022-01-15        2023-06-10   \n",
       "1           2           Premium               15 2021-09-05        2023-06-22   \n",
       "2           3          Standard               12 2023-02-28        2023-06-27   \n",
       "3           4          Standard               12 2022-07-10        2023-06-26   \n",
       "4           5             Basic               10 2023-05-01        2023-06-28   \n",
       "...       ...               ...              ...        ...               ...   \n",
       "2495     2496           Premium               14 2022-07-25        2023-07-12   \n",
       "2496     2497             Basic               15 2022-08-04        2023-07-14   \n",
       "2497     2498          Standard               12 2022-08-09        2023-07-15   \n",
       "2498     2499          Standard               13 2022-08-12        2023-07-12   \n",
       "2499     2500             Basic               15 2022-08-13        2023-07-12   \n",
       "\n",
       "             Country  Age  Gender      Device Plan Duration  \\\n",
       "0      United States   28    Male  Smartphone       1 Month   \n",
       "1             Canada   35  Female      Tablet       1 Month   \n",
       "2     United Kingdom   42    Male    Smart TV       1 Month   \n",
       "3          Australia   51  Female      Laptop       1 Month   \n",
       "4            Germany   33    Male  Smartphone       1 Month   \n",
       "...              ...  ...     ...         ...           ...   \n",
       "2495           Spain   28  Female    Smart TV       1 Month   \n",
       "2496           Spain   33  Female    Smart TV       1 Month   \n",
       "2497   United States   38    Male      Laptop       1 Month   \n",
       "2498          Canada   48  Female      Tablet       1 Month   \n",
       "2499   United States   35  Female    Smart TV       1 Month   \n",
       "\n",
       "      Number of Months Subscribed  CLTV (Total Revenue Per User)    Status  \\\n",
       "0                              17                            170  Inactive   \n",
       "1                              22                            330    Active   \n",
       "2                               4                             48    Active   \n",
       "3                              12                            144    Active   \n",
       "4                               2                             20    Active   \n",
       "...                           ...                            ...       ...   \n",
       "2495                           12                            168    Active   \n",
       "2496                           12                            180    Active   \n",
       "2497                           12                            144    Active   \n",
       "2498                           12                            156    Active   \n",
       "2499                           11                            165    Active   \n",
       "\n",
       "     Time Since Last Payment  \n",
       "0                    35 days  \n",
       "1                    23 days  \n",
       "2                    18 days  \n",
       "3                    19 days  \n",
       "4                    17 days  \n",
       "...                      ...  \n",
       "2495                  3 days  \n",
       "2496                  1 days  \n",
       "2497                  0 days  \n",
       "2498                  3 days  \n",
       "2499                  3 days  \n",
       "\n",
       "[2500 rows x 14 columns]"
      ]
     },
     "execution_count": 61,
     "metadata": {},
     "output_type": "execute_result"
    }
   ],
   "source": [
    "df"
   ]
  },
  {
   "cell_type": "code",
   "execution_count": 62,
   "id": "1fdd18da-7bb1-43e9-8359-061c661c4f4e",
   "metadata": {},
   "outputs": [],
   "source": [
    "#read dataframe into csv for further analysis.\n",
    "path = r\"C:\\Users\\Administrator\\Downloads\\Netflix Userbase Cleaned.csv\"\n",
    "df.to_csv(path, index = False)"
   ]
  }
 ],
 "metadata": {
  "kernelspec": {
   "display_name": "Python 3 (ipykernel)",
   "language": "python",
   "name": "python3"
  },
  "language_info": {
   "codemirror_mode": {
    "name": "ipython",
    "version": 3
   },
   "file_extension": ".py",
   "mimetype": "text/x-python",
   "name": "python",
   "nbconvert_exporter": "python",
   "pygments_lexer": "ipython3",
   "version": "3.12.2"
  }
 },
 "nbformat": 4,
 "nbformat_minor": 5
}
